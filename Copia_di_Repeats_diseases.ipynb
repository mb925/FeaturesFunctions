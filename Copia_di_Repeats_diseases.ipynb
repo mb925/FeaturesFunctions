{
  "nbformat": 4,
  "nbformat_minor": 0,
  "metadata": {
    "colab": {
      "name": "Copia di Repeats_diseases.ipynb",
      "provenance": [],
      "collapsed_sections": [],
      "mount_file_id": "1uSeRCh-2_2CVyP1NcMVnc23GPWIKz7vc",
      "authorship_tag": "ABX9TyPybOxLTOQWzVBqN5NlXzWW",
      "include_colab_link": true
    },
    "kernelspec": {
      "name": "python3",
      "display_name": "Python 3"
    },
    "language_info": {
      "name": "python"
    }
  },
  "cells": [
    {
      "cell_type": "markdown",
      "metadata": {
        "id": "view-in-github",
        "colab_type": "text"
      },
      "source": [
        "<a href=\"https://colab.research.google.com/github/mb925/FeaturesFunctions/blob/main/Copia_di_Repeats_diseases.ipynb\" target=\"_parent\"><img src=\"https://colab.research.google.com/assets/colab-badge.svg\" alt=\"Open In Colab\"/></a>"
      ]
    },
    {
      "cell_type": "markdown",
      "metadata": {
        "id": "2MfisHwE3cEM"
      },
      "source": [
        ""
      ]
    },
    {
      "cell_type": "markdown",
      "metadata": {
        "id": "MZ5nwymo_HjD"
      },
      "source": [
        "# TRs disease association vs background distributions: UniProt and PDB"
      ]
    },
    {
      "cell_type": "code",
      "metadata": {
        "id": "EfFHSuRui2_w"
      },
      "source": [
        "import pandas as pd\n",
        "import io\n",
        "import numpy as np\n",
        "import matplotlib.pyplot as plt\n",
        "import seaborn as sns\n",
        "import numpy as np\n",
        "from scipy import stats\n",
        "\n",
        "def how_many(elements):\n",
        "    list_pdb = []\n",
        "    for uniprot in elements:\n",
        "        if isinstance(uniprot, str):\n",
        "            for pdb in uniprot.split(';'):\n",
        "                if pdb not in list_pdb and pdb != '':\n",
        "                    list_pdb.append(pdb)\n",
        "    return len(list_pdb)\n",
        "\n",
        "def how_many_merge_classes(trp_class1, trp_class2):\n",
        "    trp_unique_1 = trp_class1['Entry'].drop_duplicates().to_frame()\n",
        "    trp_unique_2 = trp_class2['Entry'].drop_duplicates().to_frame()\n",
        "    trp_unique_all = trp_unique_1.merge(trp_unique_2, how='inner', on='Entry')\n",
        "    return len(trp_unique_all.index)\n",
        "\n",
        "\n",
        "def how_many_trp(trp_classes, df_human_reference, df_swissprot, df_human):\n",
        "    trp_unique_all = trp_classes.drop_duplicates(subset='Entry', keep=\"first\")\n",
        "    trp_all = len(trp_unique_all.index)\n",
        "    trp_unique_human = trp_classes.loc[(trp_classes.Organism == 'Homo sapiens (Human)')].drop_duplicates(subset='Entry', keep=\"first\")\n",
        "    trp_human_reference = trp_unique_human.merge(df_human_reference, on=['Entry'], how='inner')\n",
        "    trp_human_swissprot = trp_unique_human.merge(df_swissprot, on=['Entry'], how='inner')\n",
        "    trp_human = trp_unique_human.merge(df_human, on=['Entry'], how='inner')\n",
        "    trp_human_reference = len(trp_human_reference.index)\n",
        "    trp_human_swissprot = len(trp_human_swissprot.index)\n",
        "    trp_human = len(trp_human.index)\n",
        "    trp_pdb_all = trp_unique_all['Cross-reference (PDB)'].tolist()\n",
        "    trp_pdb_human = trp_unique_human['Cross-reference (PDB)'].tolist()\n",
        "    trp_pdb_all = how_many(trp_pdb_all)\n",
        "    trp_pdb_human = how_many(trp_pdb_human)\n",
        "    trp_omim = len(trp_unique_all['Involvement in disease'].dropna().index)\n",
        "    return [trp_all, trp_human_reference, trp_pdb_all, trp_pdb_human, trp_omim, trp_human_swissprot, trp_human]\n",
        "\n",
        "def merge_left_only(df_uniprot, df_repeats):\n",
        "    df = pd.merge(df_uniprot, df_repeats, on=['Entry'], how=\"outer\", indicator=True).query(\n",
        "        '_merge==\"left_only\"')\n",
        "    cols = [17, 18, 19, 20, 21, 22, 23, 24, 25, 26, 27, 28, 29, 30, 31, 32, 33, 34, 35]\n",
        "    df.drop(df.columns[cols], axis=1, inplace=True)\n",
        "    df.columns = df_uniprot.columns\n",
        "    df_uniprot.update(df)\n",
        "    return df"
      ],
      "execution_count": 3,
      "outputs": []
    },
    {
      "cell_type": "code",
      "metadata": {
        "id": "Diy4wYNftpZg"
      },
      "source": [
        "def table_count():\n",
        "    df_uniprots_reference = pd.read_csv('drive/MyDrive/Colab Notebooks/datasets/uniprot_referenceproteome.tsv', sep='\\t')\n",
        "    df_uniprots_swissprot = pd.read_csv('drive/MyDrive/Colab Notebooks/datasets/uniprot-homosapiens-swissprot.tsv', sep='\\t')\n",
        "    df_uniprots = pd.read_csv('drive/MyDrive/Colab Notebooks/datasets/uniprot-advancedseach-homosapiens.tsv', sep='\\t')\n",
        "\n",
        "\n",
        "    df_pdbs = pd.read_csv('drive/MyDrive/Colab Notebooks/datasets/pdb_chain_uniprot.tsv', sep='\\t')\n",
        "    df_repeats_classification = pd.read_csv('drive/MyDrive/Colab Notebooks/datasets/repeatsdb_type_classification.tsv', sep='\\t', index_col=0).drop_duplicates()\n",
        "    df_repeats = pd.read_csv('drive/MyDrive/Colab Notebooks/datasets/repeatsdb_type_disease.tsv', sep='\\t')\n",
        "    df_trp_dis = df_repeats.loc[(df_uniprots_reference.Organism == 'Homo sapiens (Human)')][df_repeats['Involvement in disease'].notna()]\n",
        "\n",
        "\n",
        "\n",
        "    # remove repeats from uniprot databases\n",
        "    df_uniprots_reference = merge_left_only(df_uniprots_reference, df_repeats)\n",
        "    df_uniprots_swissprot = merge_left_only(df_uniprots_swissprot, df_repeats)\n",
        "    df_uniprots = merge_left_only(df_uniprots, df_repeats)\n",
        "\n",
        "    # UniProt\n",
        "    uniprot_pdb = len(df_pdbs['Entry'].drop_duplicates().index) # uniprot with at least 1 pdb associated\n",
        "    df_uniprot_human_reference = df_uniprots_reference.loc[(df_uniprots_reference.Organism == 'Homo sapiens (Human)')]\n",
        "    uniprot_pdb_human = len(df_uniprot_human_reference.merge(df_pdbs, on=['Entry'], how='inner')['Entry'].drop_duplicates().index)\n",
        "    df_uniprot_human_swissprot = df_uniprots_swissprot.loc[(df_uniprots_swissprot.Organism == 'Homo sapiens (Human)')]\n",
        "    df_uniprot_human = df_uniprots.loc[(df_uniprots.Organism == 'Homo sapiens (Human)')]\n",
        "    uniprot_human_reference = len(df_uniprot_human_reference.index)\n",
        "    uniprot_human_swissprot = len(df_uniprot_human_swissprot.index)\n",
        "    uniprot_human = len(df_uniprot_human.index)\n",
        "    uniprot_pdb_merge = df_uniprot_human_reference.merge(df_pdbs, on=['Entry'], how='inner')\n",
        "    pdb_human = len(uniprot_pdb_merge.drop_duplicates(subset=['PDB', 'CHAIN'], keep=\"first\").index)\n",
        "\n",
        "    # TRP\n",
        "    uniprot_human_trp = len(df_repeats.loc[(df_repeats.Organism == 'Homo sapiens (Human)')]['Entry'].index)\n",
        "\n",
        "    # DISEASE\n",
        "    uniprot_all_omim = 5147  # fonte: uniprot search by disease\n",
        "    uniprot_disease_reference = len(df_uniprots_reference.loc[(df_uniprots_reference.Organism == 'Homo sapiens (Human)')][\n",
        "                                    'Involvement in disease'].dropna().index)  # info matching with: uniprot search by disease and organism\n",
        "    uniprot_disease_human = len(df_uniprots.loc[(df_uniprots.Organism == 'Homo sapiens (Human)')][\n",
        "                                    'Involvement in disease'].dropna().index)\n",
        "    uniprot_disease_swissprot = len(df_uniprots_swissprot.loc[(df_uniprots_swissprot.Organism == 'Homo sapiens (Human)')][\n",
        "                                    'Involvement in disease'].dropna().index)\n",
        "\n",
        "    uniprot_trp_dis = len(df_trp_dis['Entry'].index)\n",
        "    uniprot_trp_dis_human = len(df_repeats.loc[(df_uniprots_reference.Organism == 'Homo sapiens (Human)')]['Involvement in disease'].dropna().index)\n",
        "\n",
        "\n",
        "    # TRP CLASSES\n",
        "\n",
        "    trp_ii_classes = df_repeats_classification.loc[(df_repeats_classification['Classification'] >= 2) & (df_repeats_classification['Classification'] <= 2.9)]\n",
        "    [trp_ii_all, trp_ii_reference, trp_ii_pdb_all, trp_ii_pdb_human, trp_ii_omim, trp_ii_swissprot, trp_ii_human] = how_many_trp(trp_ii_classes, df_uniprots_reference, df_uniprots_swissprot, df_uniprots)\n",
        "\n",
        "\n",
        "    trp_iii_classes = df_repeats_classification.loc[(df_repeats_classification['Classification'] >= 3) & (df_repeats_classification['Classification'] <= 3.9)]\n",
        "    [trp_iii_all, trp_iii_reference, trp_iii_pdb_all, trp_iii_pdb_human, trp_iii_omim, trp_iii_swissprot, trp_iii_human] = how_many_trp(trp_iii_classes, df_uniprots_reference, df_uniprots_swissprot, df_uniprots)\n",
        "\n",
        "\n",
        "    trp_iv_classes = df_repeats_classification.loc[(df_repeats_classification['Classification'] >= 3) & (df_repeats_classification['Classification'] <= 4.9)]\n",
        "    [trp_iv_all, trp_iv_reference, trp_iv_pdb_all, trp_iv_pdb_human, trp_iv_omim, trp_iv_swissprot, trp_iv_human] = how_many_trp(trp_iv_classes, df_uniprots_reference, df_uniprots_swissprot, df_uniprots)\n",
        "\n",
        "    trp_v_classes = df_repeats_classification.loc[(df_repeats_classification['Classification'] >= 5) & (df_repeats_classification['Classification'] <= 5.9)]\n",
        "    [trp_v_all, trp_v_reference, trp_v_pdb_all, trp_v_pdb_human, trp_v_omim, trp_v_swissprot, trp_v_human] = how_many_trp(trp_v_classes, df_uniprots_reference, df_uniprots_swissprot, df_uniprots)\n",
        "\n",
        "    pdb_all = len(df_pdbs.drop_duplicates(subset=['PDB', 'CHAIN'], keep=\"first\").index)\n",
        "\n",
        "    trp_pdb_omim = df_repeats['Cross-reference (PDB)'].tolist()\n",
        "    trp_pdb_omim = how_many(trp_pdb_omim)\n",
        "\n",
        "    trp_ii_pdb_omim = trp_ii_classes.drop_duplicates(subset='Entry', keep=\"first\")['Cross-reference (PDB)'].tolist()\n",
        "    trp_ii_pdb_omim = how_many(trp_ii_pdb_omim)\n",
        "    trp_iii_pdb_omim = trp_iii_classes.drop_duplicates(subset='Entry', keep=\"first\")['Cross-reference (PDB)'].tolist()\n",
        "    trp_iii_pdb_omim = how_many(trp_iii_pdb_omim)\n",
        "    trp_iv_pdb_omim = trp_iv_classes.drop_duplicates(subset='Entry', keep=\"first\")['Cross-reference (PDB)'].tolist()\n",
        "    trp_iv_pdb_omim = how_many(trp_iv_pdb_omim)\n",
        "    trp_v_pdb_omim = trp_v_classes.drop_duplicates(subset='Entry', keep=\"first\")['Cross-reference (PDB)'].tolist()\n",
        "    trp_v_pdb_omim = how_many(trp_v_pdb_omim)\n",
        "\n",
        "\n",
        "    # TRP CLASSES INTERSECTIONS\n",
        "\n",
        "    trp_ii_iii = how_many_merge_classes(trp_ii_classes, trp_iii_classes)\n",
        "    trp_ii_iv = how_many_merge_classes(trp_ii_classes, trp_iv_classes)\n",
        "    trp_ii_v = how_many_merge_classes(trp_ii_classes, trp_v_classes)\n",
        "    trp_iii_iv = how_many_merge_classes(trp_iii_classes, trp_iv_classes)\n",
        "    trp_iii_v = how_many_merge_classes(trp_iii_classes, trp_v_classes)\n",
        "    trp_iv_v = how_many_merge_classes(trp_iv_classes, trp_v_classes)\n",
        "\n",
        "\n",
        "    # Filling the matrix\n",
        "    w, h = 17, 17\n",
        "    matrix = [[0 for x in range(w)] for y in range(h)]\n",
        "\n",
        "    # PDB all\n",
        "    matrix[0][0] = pdb_all # PDB all\n",
        "    matrix[0][1] = pdb_human  # PDB Human\n",
        "    matrix[0][2] = uniprot_pdb # UniProt all\n",
        "    matrix[0][3] = uniprot_pdb_human  # UniProt Human reference\n",
        "    matrix[0][4] = 0 # TRP UniProt\n",
        "    matrix[0][5] = 0 # OMIM UniProt\n",
        "    matrix[0][6] = 0 # TRP II\n",
        "    matrix[0][7] = 0 # TRP III\n",
        "    matrix[0][8] = 0 # TRP IV\n",
        "    matrix[0][9] = 0 # TRP V\n",
        "    matrix[0][10] = trp_ii_pdb_all + trp_iii_pdb_all + trp_iv_pdb_all + trp_v_pdb_all # TRP PDB\n",
        "    matrix[0][11] = trp_ii_pdb_all # TRP II PDB\n",
        "    matrix[0][12] = trp_iii_pdb_all # TRP III PDB\n",
        "    matrix[0][13] = trp_iv_pdb_all # TRP IV PDB\n",
        "    matrix[0][14] = trp_iv_pdb_all # TRP V PDB\n",
        "    matrix[0][15] = 0 # UniProt Human SwissProt\n",
        "    matrix[0][16] = 0 # UniProt Human\n",
        "\n",
        "    # PDB Human\n",
        "    matrix[1][1] = 0 # PDB Human\n",
        "    matrix[1][2] = 0 # UniProt all\n",
        "    matrix[1][3] = 0 # UniProt Human reference\n",
        "    matrix[1][4] = 0 # TRP UniProt\n",
        "    matrix[1][5] = 0 # OMIM UniProt\n",
        "    matrix[1][6] = 0 # TRP II\n",
        "    matrix[1][7] = 0 # TRP III\n",
        "    matrix[1][8] = 0 # TRP IV\n",
        "    matrix[1][9] = 0 # TRP V\n",
        "    matrix[1][10] = trp_ii_pdb_human + trp_iii_pdb_human + trp_iv_pdb_human + trp_v_pdb_human # TRP PDB\n",
        "    matrix[1][11] = trp_ii_pdb_human # TRP II PDB\n",
        "    matrix[1][12] = trp_iii_pdb_human # TRP III PDB\n",
        "    matrix[1][13] = trp_iv_pdb_human # TRP IV PDB\n",
        "    matrix[1][14] = trp_v_pdb_human # TRP V PDB\n",
        "    matrix[1][15] = 0  # UniProt Human SwissProt\n",
        "    matrix[1][16] = 0  # UniProt Human\n",
        "\n",
        "    # UniProt all\n",
        "    matrix[2][2] = 0 # UniProt all\n",
        "    matrix[2][3] = uniprot_human_reference # UniProt Human reference\n",
        "    matrix[2][4] = trp_ii_all + trp_iii_all + trp_iv_all + trp_v_all # TRP UniProt\n",
        "    matrix[2][5] = uniprot_all_omim # OMIM UniProt\n",
        "    matrix[2][6] = trp_ii_all # TRP II\n",
        "    matrix[2][7] = trp_iii_all # TRP III\n",
        "    matrix[2][8] = trp_iv_all # TRP IV\n",
        "    matrix[2][9] = trp_v_all # TRP V\n",
        "    matrix[2][10] = 0 # TRP PDB\n",
        "    matrix[2][11] = 0 # TRP II PDB\n",
        "    matrix[2][12] = 0 # TRP III PDB\n",
        "    matrix[2][13] = 0 # TRP IV PDB\n",
        "    matrix[2][14] = 0 # TRP V PDB\n",
        "    matrix[2][15] = uniprot_human_swissprot  # UniProt Human SwissProt\n",
        "    matrix[2][16] = uniprot_human  # UniProt Human\n",
        "\n",
        "    # 'UniProt Human'\n",
        "    matrix[3][3] = uniprot_human_reference # UniProt Human reference\n",
        "    matrix[3][4] = uniprot_human_trp # TRP UniProt\n",
        "    matrix[3][5] = uniprot_disease_reference # OMIM UniProt\n",
        "    matrix[3][6] = trp_ii_reference # TRP II UniProt\n",
        "    matrix[3][7] = trp_iii_reference # TRP III UniProt\n",
        "    matrix[3][8] = trp_iv_reference # TRP IV UniProt\n",
        "    matrix[3][9] = trp_v_reference # TRP V UniProt\n",
        "    matrix[3][10] = 0 # TRP PDB\n",
        "    matrix[3][11] = 0 # TRP II PDB\n",
        "    matrix[3][12] = 0 # TRP III PDB\n",
        "    matrix[3][13] = 0 # TRP IV PDB\n",
        "    matrix[3][14] = 0 # TRP V PDB\n",
        "    matrix[3][15] = 0  # UniProt Human SwissProt\n",
        "    matrix[3][16] = 0  # UniProt Human\n",
        "\n",
        "    # TRP UniProt\n",
        "    matrix[4][4] = trp_ii_all + trp_iii_all + trp_iv_all + trp_v_all # TRP UniProt\n",
        "    matrix[4][5] = uniprot_trp_dis # OMIM UniProt\n",
        "    matrix[4][6] = trp_ii_all # TRP II\n",
        "    matrix[4][7] = trp_iii_all # TRP III\n",
        "    matrix[4][8] = trp_iv_all # TRP IV\n",
        "    matrix[4][9] = trp_v_all # TRP V\n",
        "    matrix[4][10] = trp_ii_all + trp_iii_all + trp_iv_all + trp_v_all # TRP PDB\n",
        "    matrix[4][11] = 0 # TRP II PDB\n",
        "    matrix[4][12] = 0 # TRP III PDB\n",
        "    matrix[4][13] = 0 # TRP IV PDB\n",
        "    matrix[4][14] = 0 # TRP V PDB\n",
        "    matrix[4][15] = 0  # UniProt Human SwissProt\n",
        "    matrix[4][16] = 0  # UniProt Human\n",
        "\n",
        "    # OMIM UniProt\n",
        "    matrix[5][5] = 0\n",
        "    matrix[5][6] = trp_ii_omim\n",
        "    matrix[5][7] = trp_iii_omim\n",
        "    matrix[5][8] = trp_iv_omim\n",
        "    matrix[5][9] = trp_v_omim\n",
        "    matrix[5][10] = trp_pdb_omim # TRP PDB\n",
        "    matrix[5][11] = trp_ii_pdb_omim # TRP II PDB\n",
        "    matrix[5][12] = trp_iii_pdb_omim # TRP III PDB\n",
        "    matrix[5][13] = trp_iv_pdb_omim # TRP IV PDB\n",
        "    matrix[5][14] = trp_v_pdb_omim # TRP V PDB\n",
        "    matrix[5][15] = uniprot_disease_swissprot  # UniProt Human SwissProt\n",
        "    matrix[5][16] = uniprot_disease_human  # UniProt Human\n",
        "\n",
        "    # TRP II UniProt\n",
        "    matrix[6][6] = trp_ii_all\n",
        "    matrix[6][7] = trp_ii_iii\n",
        "    matrix[6][8] = trp_ii_iv\n",
        "    matrix[6][9] = trp_ii_v\n",
        "    matrix[6][10] = 0  # TRP PDB\n",
        "    matrix[6][11] = 0  # TRP II PDB\n",
        "    matrix[6][12] = 0  # TRP III PDB\n",
        "    matrix[6][13] = 0  # TRP IV PDB\n",
        "    matrix[6][14] = 0  # TRP V PDB\n",
        "    matrix[6][15] = 0  # UniProt Human SwissProt\n",
        "    matrix[6][16] = 0  # UniProt Human\n",
        "\n",
        "    # TRP III UniProt\n",
        "    matrix[7][7] = trp_iii_all\n",
        "    matrix[7][8] = trp_iii_iv\n",
        "    matrix[7][9] = trp_iii_v\n",
        "    matrix[7][10] = 0  # TRP PDB\n",
        "    matrix[7][11] = 0  # TRP II PDB\n",
        "    matrix[7][12] = 0  # TRP III PDB\n",
        "    matrix[7][13] = 0  # TRP IV PDB\n",
        "    matrix[7][14] = 0  # TRP V PDB\n",
        "    matrix[7][15] = 0  # UniProt Human SwissProt\n",
        "    matrix[7][16] = 0  # UniProt Human\n",
        "\n",
        "    # TRP IV UniProt\n",
        "    matrix[8][8] = trp_iv_all\n",
        "    matrix[8][9] = trp_iv_v\n",
        "    matrix[8][10] = 0  # TRP PDB\n",
        "    matrix[8][11] = 0  # TRP II PDB\n",
        "    matrix[8][12] = 0  # TRP III PDB\n",
        "    matrix[8][13] = 0  # TRP IV PDB\n",
        "    matrix[8][14] = 0  # TRP V PDB\n",
        "    matrix[8][15] = 0  # UniProt Human SwissProt\n",
        "    matrix[8][16] = 0  # UniProt Human\n",
        "\n",
        "    # TRP V UniProt\n",
        "    matrix[9][9] = trp_v_all\n",
        "    matrix[9][10] = 0  # TRP PDB\n",
        "    matrix[9][11] = 0  # TRP II PDB\n",
        "    matrix[9][12] = 0  # TRP III PDB\n",
        "    matrix[9][13] = 0  # TRP IV PDB\n",
        "    matrix[9][14] = 0  # TRP V PDB\n",
        "    matrix[9][15] = 0  # UniProt Human SwissProt\n",
        "    matrix[9][16] = 0  # UniProt Human\n",
        "\n",
        "    # TRP PDB\n",
        "    matrix[10][10] = trp_ii_pdb_all + trp_iii_pdb_all + trp_iv_pdb_all + trp_v_pdb_all  # TRP PDB\n",
        "    matrix[10][11] = trp_ii_pdb_all  # TRP II PDB\n",
        "    matrix[10][12] = trp_iii_pdb_all  # TRP III PDB\n",
        "    matrix[10][13] = trp_iv_pdb_all  # TRP IV PDB\n",
        "    matrix[10][14] = trp_v_pdb_all  # TRP V PDB\n",
        "    matrix[10][15] = 0  # UniProt Human SwissProt\n",
        "    matrix[10][16] = 0  # UniProt Human\n",
        "\n",
        "    # TRP II PDB\n",
        "    matrix[11][11] = trp_ii_pdb_all  # TRP II PDB\n",
        "    matrix[11][12] = trp_iii_pdb_all  # TRP III PDB\n",
        "    matrix[11][13] = trp_iv_pdb_all  # TRP IV PDB\n",
        "    matrix[11][14] = trp_v_pdb_all  # TRP V PDB\n",
        "    matrix[11][15] = trp_ii_swissprot  # UniProt Human SwissProt\n",
        "    matrix[11][16] = trp_ii_human  # UniProt Human\n",
        "\n",
        "    # TRP III PDB\n",
        "    matrix[12][12] = trp_iii_pdb_all  # TRP III PDB\n",
        "    matrix[12][13] = trp_iv_pdb_all  # TRP IV PDB\n",
        "    matrix[12][14] = trp_v_pdb_all  # TRP V PDB\n",
        "    matrix[12][15] = trp_iii_swissprot  # UniProt Human SwissProt\n",
        "    matrix[12][16] = trp_iii_human  # UniProt Human\n",
        "\n",
        "    # TRP IV PDB\n",
        "    matrix[13][13] = trp_iv_pdb_all  # TRP IV PDB\n",
        "    matrix[13][14] = trp_v_pdb_all  # TRP V PDB\n",
        "    matrix[13][15] = trp_iv_swissprot  # UniProt Human SwissProt\n",
        "    matrix[13][16] = trp_iv_human  # UniProt Human\n",
        "\n",
        "    # TRP V PDB\n",
        "    matrix[14][14] = trp_v_pdb_all  # TRP V PDB\n",
        "    matrix[14][15] = trp_v_swissprot  # UniProt Human SwissProt\n",
        "    matrix[14][16] = trp_v_human  # UniProt Human\n",
        "\n",
        "    # UniProt Human Swissprot\n",
        "    matrix[15][15] = uniprot_human_swissprot  # UniProt Human SwissProt\n",
        "    matrix[15][16] = 0  # UniProt Human\n",
        "\n",
        "    # # UniProt Human\n",
        "    matrix[16][16] = uniprot_human  # UniProt Human\n",
        "\n",
        "    label = ['PDB all', 'PDB Human', 'UniProt all', 'UniProt Human reference', 'TRP human UniProt', 'OMIM UniProt', 'TRP II', 'TRP III', 'TRP IV', 'TRP V', 'TRP PDB', 'TRP II PDB', 'TRP III PDB', 'TRP IV PDB', 'TRP V PDB', 'UniProt Swissprot', 'Uniprot Human']\n",
        "    df_count_disease = pd.DataFrame(matrix, columns=label)\n",
        "    df_count_disease.index = label\n",
        "    df_count_disease.to_csv('drive/MyDrive/Colab Notebooks/output/contingency_table.tsv', sep='\\t')"
      ],
      "execution_count": null,
      "outputs": []
    },
    {
      "cell_type": "code",
      "metadata": {
        "colab": {
          "base_uri": "https://localhost:8080/"
        },
        "id": "MQjOPa-ClJ0R",
        "outputId": "92839415-da59-4769-c143-3f4ddd4007af"
      },
      "source": [
        "table_count()"
      ],
      "execution_count": null,
      "outputs": [
        {
          "output_type": "stream",
          "name": "stderr",
          "text": [
            "/usr/local/lib/python3.7/dist-packages/IPython/core/interactiveshell.py:2828: DtypeWarning: Columns (7,8) have mixed types.Specify dtype option on import or set low_memory=False.\n",
            "  if self.run_code(code, result):\n",
            "/usr/local/lib/python3.7/dist-packages/IPython/core/interactiveshell.py:2828: DtypeWarning: Columns (7,8,9,11) have mixed types.Specify dtype option on import or set low_memory=False.\n",
            "  if self.run_code(code, result):\n"
          ]
        }
      ]
    },
    {
      "cell_type": "code",
      "metadata": {
        "colab": {
          "base_uri": "https://localhost:8080/",
          "height": 739
        },
        "id": "uHLp_7lj0Q-y",
        "outputId": "43d1ded9-9b31-4205-a1e1-62d5b16fade9"
      },
      "source": [
        "stk = pd.read_csv('drive/MyDrive/Colab Notebooks/output/contingency_table.tsv', sep='\\t', index_col=0) #to read the file\n",
        "stk"
      ],
      "execution_count": null,
      "outputs": [
        {
          "output_type": "execute_result",
          "data": {
            "text/html": [
              "<div>\n",
              "<style scoped>\n",
              "    .dataframe tbody tr th:only-of-type {\n",
              "        vertical-align: middle;\n",
              "    }\n",
              "\n",
              "    .dataframe tbody tr th {\n",
              "        vertical-align: top;\n",
              "    }\n",
              "\n",
              "    .dataframe thead th {\n",
              "        text-align: right;\n",
              "    }\n",
              "</style>\n",
              "<table border=\"1\" class=\"dataframe\">\n",
              "  <thead>\n",
              "    <tr style=\"text-align: right;\">\n",
              "      <th></th>\n",
              "      <th>PDB all</th>\n",
              "      <th>PDB Human</th>\n",
              "      <th>UniProt all</th>\n",
              "      <th>UniProt Human reference</th>\n",
              "      <th>TRP human UniProt</th>\n",
              "      <th>OMIM UniProt</th>\n",
              "      <th>TRP II</th>\n",
              "      <th>TRP III</th>\n",
              "      <th>TRP IV</th>\n",
              "      <th>TRP V</th>\n",
              "      <th>TRP PDB</th>\n",
              "      <th>TRP II PDB</th>\n",
              "      <th>TRP III PDB</th>\n",
              "      <th>TRP IV PDB</th>\n",
              "      <th>TRP V PDB</th>\n",
              "      <th>UniProt Swissprot</th>\n",
              "      <th>Uniprot Human</th>\n",
              "    </tr>\n",
              "  </thead>\n",
              "  <tbody>\n",
              "    <tr>\n",
              "      <th>PDB all</th>\n",
              "      <td>297680</td>\n",
              "      <td>67274</td>\n",
              "      <td>35787</td>\n",
              "      <td>4868</td>\n",
              "      <td>0</td>\n",
              "      <td>0</td>\n",
              "      <td>0</td>\n",
              "      <td>0</td>\n",
              "      <td>0</td>\n",
              "      <td>0</td>\n",
              "      <td>16786</td>\n",
              "      <td>340</td>\n",
              "      <td>5042</td>\n",
              "      <td>10299</td>\n",
              "      <td>10299</td>\n",
              "      <td>0</td>\n",
              "      <td>0</td>\n",
              "    </tr>\n",
              "    <tr>\n",
              "      <th>PDB Human</th>\n",
              "      <td>0</td>\n",
              "      <td>0</td>\n",
              "      <td>0</td>\n",
              "      <td>0</td>\n",
              "      <td>0</td>\n",
              "      <td>0</td>\n",
              "      <td>0</td>\n",
              "      <td>0</td>\n",
              "      <td>0</td>\n",
              "      <td>0</td>\n",
              "      <td>6858</td>\n",
              "      <td>20</td>\n",
              "      <td>2330</td>\n",
              "      <td>3778</td>\n",
              "      <td>730</td>\n",
              "      <td>0</td>\n",
              "      <td>0</td>\n",
              "    </tr>\n",
              "    <tr>\n",
              "      <th>UniProt all</th>\n",
              "      <td>0</td>\n",
              "      <td>0</td>\n",
              "      <td>0</td>\n",
              "      <td>78758</td>\n",
              "      <td>2249</td>\n",
              "      <td>5147</td>\n",
              "      <td>21</td>\n",
              "      <td>702</td>\n",
              "      <td>1426</td>\n",
              "      <td>100</td>\n",
              "      <td>0</td>\n",
              "      <td>0</td>\n",
              "      <td>0</td>\n",
              "      <td>0</td>\n",
              "      <td>0</td>\n",
              "      <td>203431</td>\n",
              "      <td>78758</td>\n",
              "    </tr>\n",
              "    <tr>\n",
              "      <th>UniProt Human reference</th>\n",
              "      <td>0</td>\n",
              "      <td>0</td>\n",
              "      <td>0</td>\n",
              "      <td>78758</td>\n",
              "      <td>280</td>\n",
              "      <td>4510</td>\n",
              "      <td>0</td>\n",
              "      <td>0</td>\n",
              "      <td>0</td>\n",
              "      <td>0</td>\n",
              "      <td>0</td>\n",
              "      <td>0</td>\n",
              "      <td>0</td>\n",
              "      <td>0</td>\n",
              "      <td>0</td>\n",
              "      <td>0</td>\n",
              "      <td>0</td>\n",
              "    </tr>\n",
              "    <tr>\n",
              "      <th>TRP human UniProt</th>\n",
              "      <td>0</td>\n",
              "      <td>0</td>\n",
              "      <td>0</td>\n",
              "      <td>0</td>\n",
              "      <td>2249</td>\n",
              "      <td>105</td>\n",
              "      <td>21</td>\n",
              "      <td>702</td>\n",
              "      <td>1426</td>\n",
              "      <td>100</td>\n",
              "      <td>2249</td>\n",
              "      <td>0</td>\n",
              "      <td>0</td>\n",
              "      <td>0</td>\n",
              "      <td>0</td>\n",
              "      <td>0</td>\n",
              "      <td>0</td>\n",
              "    </tr>\n",
              "    <tr>\n",
              "      <th>OMIM UniProt</th>\n",
              "      <td>0</td>\n",
              "      <td>0</td>\n",
              "      <td>0</td>\n",
              "      <td>0</td>\n",
              "      <td>0</td>\n",
              "      <td>0</td>\n",
              "      <td>1</td>\n",
              "      <td>59</td>\n",
              "      <td>84</td>\n",
              "      <td>26</td>\n",
              "      <td>11217</td>\n",
              "      <td>340</td>\n",
              "      <td>5042</td>\n",
              "      <td>10299</td>\n",
              "      <td>1105</td>\n",
              "      <td>4510</td>\n",
              "      <td>4510</td>\n",
              "    </tr>\n",
              "    <tr>\n",
              "      <th>TRP II</th>\n",
              "      <td>0</td>\n",
              "      <td>0</td>\n",
              "      <td>0</td>\n",
              "      <td>0</td>\n",
              "      <td>0</td>\n",
              "      <td>0</td>\n",
              "      <td>21</td>\n",
              "      <td>11</td>\n",
              "      <td>15</td>\n",
              "      <td>2</td>\n",
              "      <td>0</td>\n",
              "      <td>0</td>\n",
              "      <td>0</td>\n",
              "      <td>0</td>\n",
              "      <td>0</td>\n",
              "      <td>0</td>\n",
              "      <td>0</td>\n",
              "    </tr>\n",
              "    <tr>\n",
              "      <th>TRP III</th>\n",
              "      <td>0</td>\n",
              "      <td>0</td>\n",
              "      <td>0</td>\n",
              "      <td>0</td>\n",
              "      <td>0</td>\n",
              "      <td>0</td>\n",
              "      <td>0</td>\n",
              "      <td>702</td>\n",
              "      <td>702</td>\n",
              "      <td>8</td>\n",
              "      <td>0</td>\n",
              "      <td>0</td>\n",
              "      <td>0</td>\n",
              "      <td>0</td>\n",
              "      <td>0</td>\n",
              "      <td>0</td>\n",
              "      <td>0</td>\n",
              "    </tr>\n",
              "    <tr>\n",
              "      <th>TRP IV</th>\n",
              "      <td>0</td>\n",
              "      <td>0</td>\n",
              "      <td>0</td>\n",
              "      <td>0</td>\n",
              "      <td>0</td>\n",
              "      <td>0</td>\n",
              "      <td>0</td>\n",
              "      <td>0</td>\n",
              "      <td>1426</td>\n",
              "      <td>21</td>\n",
              "      <td>0</td>\n",
              "      <td>0</td>\n",
              "      <td>0</td>\n",
              "      <td>0</td>\n",
              "      <td>0</td>\n",
              "      <td>0</td>\n",
              "      <td>0</td>\n",
              "    </tr>\n",
              "    <tr>\n",
              "      <th>TRP V</th>\n",
              "      <td>0</td>\n",
              "      <td>0</td>\n",
              "      <td>0</td>\n",
              "      <td>0</td>\n",
              "      <td>0</td>\n",
              "      <td>0</td>\n",
              "      <td>0</td>\n",
              "      <td>0</td>\n",
              "      <td>0</td>\n",
              "      <td>100</td>\n",
              "      <td>0</td>\n",
              "      <td>0</td>\n",
              "      <td>0</td>\n",
              "      <td>0</td>\n",
              "      <td>0</td>\n",
              "      <td>0</td>\n",
              "      <td>0</td>\n",
              "    </tr>\n",
              "    <tr>\n",
              "      <th>TRP PDB</th>\n",
              "      <td>0</td>\n",
              "      <td>0</td>\n",
              "      <td>0</td>\n",
              "      <td>0</td>\n",
              "      <td>0</td>\n",
              "      <td>0</td>\n",
              "      <td>0</td>\n",
              "      <td>0</td>\n",
              "      <td>0</td>\n",
              "      <td>0</td>\n",
              "      <td>16786</td>\n",
              "      <td>340</td>\n",
              "      <td>5042</td>\n",
              "      <td>10299</td>\n",
              "      <td>1105</td>\n",
              "      <td>0</td>\n",
              "      <td>0</td>\n",
              "    </tr>\n",
              "    <tr>\n",
              "      <th>TRP II PDB</th>\n",
              "      <td>0</td>\n",
              "      <td>0</td>\n",
              "      <td>0</td>\n",
              "      <td>0</td>\n",
              "      <td>0</td>\n",
              "      <td>0</td>\n",
              "      <td>0</td>\n",
              "      <td>0</td>\n",
              "      <td>0</td>\n",
              "      <td>0</td>\n",
              "      <td>0</td>\n",
              "      <td>340</td>\n",
              "      <td>5042</td>\n",
              "      <td>10299</td>\n",
              "      <td>1105</td>\n",
              "      <td>0</td>\n",
              "      <td>0</td>\n",
              "    </tr>\n",
              "    <tr>\n",
              "      <th>TRP III PDB</th>\n",
              "      <td>0</td>\n",
              "      <td>0</td>\n",
              "      <td>0</td>\n",
              "      <td>0</td>\n",
              "      <td>0</td>\n",
              "      <td>0</td>\n",
              "      <td>0</td>\n",
              "      <td>0</td>\n",
              "      <td>0</td>\n",
              "      <td>0</td>\n",
              "      <td>0</td>\n",
              "      <td>0</td>\n",
              "      <td>5042</td>\n",
              "      <td>10299</td>\n",
              "      <td>1105</td>\n",
              "      <td>0</td>\n",
              "      <td>0</td>\n",
              "    </tr>\n",
              "    <tr>\n",
              "      <th>TRP IV PDB</th>\n",
              "      <td>0</td>\n",
              "      <td>0</td>\n",
              "      <td>0</td>\n",
              "      <td>0</td>\n",
              "      <td>0</td>\n",
              "      <td>0</td>\n",
              "      <td>0</td>\n",
              "      <td>0</td>\n",
              "      <td>0</td>\n",
              "      <td>0</td>\n",
              "      <td>0</td>\n",
              "      <td>0</td>\n",
              "      <td>0</td>\n",
              "      <td>10299</td>\n",
              "      <td>1105</td>\n",
              "      <td>0</td>\n",
              "      <td>0</td>\n",
              "    </tr>\n",
              "    <tr>\n",
              "      <th>TRP V PDB</th>\n",
              "      <td>0</td>\n",
              "      <td>0</td>\n",
              "      <td>0</td>\n",
              "      <td>0</td>\n",
              "      <td>0</td>\n",
              "      <td>0</td>\n",
              "      <td>0</td>\n",
              "      <td>0</td>\n",
              "      <td>0</td>\n",
              "      <td>0</td>\n",
              "      <td>0</td>\n",
              "      <td>0</td>\n",
              "      <td>0</td>\n",
              "      <td>0</td>\n",
              "      <td>1105</td>\n",
              "      <td>0</td>\n",
              "      <td>0</td>\n",
              "    </tr>\n",
              "    <tr>\n",
              "      <th>UniProt Swissprot</th>\n",
              "      <td>0</td>\n",
              "      <td>0</td>\n",
              "      <td>0</td>\n",
              "      <td>0</td>\n",
              "      <td>0</td>\n",
              "      <td>0</td>\n",
              "      <td>0</td>\n",
              "      <td>0</td>\n",
              "      <td>0</td>\n",
              "      <td>0</td>\n",
              "      <td>0</td>\n",
              "      <td>0</td>\n",
              "      <td>0</td>\n",
              "      <td>0</td>\n",
              "      <td>0</td>\n",
              "      <td>203431</td>\n",
              "      <td>0</td>\n",
              "    </tr>\n",
              "    <tr>\n",
              "      <th>Uniprot Human</th>\n",
              "      <td>0</td>\n",
              "      <td>0</td>\n",
              "      <td>0</td>\n",
              "      <td>0</td>\n",
              "      <td>0</td>\n",
              "      <td>0</td>\n",
              "      <td>0</td>\n",
              "      <td>0</td>\n",
              "      <td>0</td>\n",
              "      <td>0</td>\n",
              "      <td>0</td>\n",
              "      <td>0</td>\n",
              "      <td>0</td>\n",
              "      <td>0</td>\n",
              "      <td>0</td>\n",
              "      <td>0</td>\n",
              "      <td>78758</td>\n",
              "    </tr>\n",
              "  </tbody>\n",
              "</table>\n",
              "</div>"
            ],
            "text/plain": [
              "                         PDB all  PDB Human  ...  UniProt Swissprot  Uniprot Human\n",
              "PDB all                   297680      67274  ...                  0              0\n",
              "PDB Human                      0          0  ...                  0              0\n",
              "UniProt all                    0          0  ...             203431          78758\n",
              "UniProt Human reference        0          0  ...                  0              0\n",
              "TRP human UniProt              0          0  ...                  0              0\n",
              "OMIM UniProt                   0          0  ...               4510           4510\n",
              "TRP II                         0          0  ...                  0              0\n",
              "TRP III                        0          0  ...                  0              0\n",
              "TRP IV                         0          0  ...                  0              0\n",
              "TRP V                          0          0  ...                  0              0\n",
              "TRP PDB                        0          0  ...                  0              0\n",
              "TRP II PDB                     0          0  ...                  0              0\n",
              "TRP III PDB                    0          0  ...                  0              0\n",
              "TRP IV PDB                     0          0  ...                  0              0\n",
              "TRP V PDB                      0          0  ...                  0              0\n",
              "UniProt Swissprot              0          0  ...             203431              0\n",
              "Uniprot Human                  0          0  ...                  0          78758\n",
              "\n",
              "[17 rows x 17 columns]"
            ]
          },
          "metadata": {},
          "execution_count": 14
        }
      ]
    },
    {
      "cell_type": "markdown",
      "metadata": {
        "id": "5ZIY48UJ2O1f"
      },
      "source": [
        "**Diseases in TRP vs UniProt**\n",
        "\t\t\t\n",
        "\t\t\t\t"
      ]
    },
    {
      "cell_type": "code",
      "source": [
        "import scipy.stats as stats\n",
        "import pandas as pd\n",
        "import seaborn as sn\n",
        "import io\n",
        "import numpy as np\n",
        "import matplotlib.pyplot as plt\n",
        "def disease_in_proteins():\n",
        "    table = pd.read_csv('drive/MyDrive/Colab Notebooks/output/contingency_table.tsv', sep='\\t', index_col=0)\n",
        "    # Disease in UniProt Human proteins\n",
        "    omim_uniprot = table.at['UniProt Human reference', 'OMIM UniProt']\n",
        "    uniprot_human_ref = table.at['UniProt Human reference', 'UniProt Human reference']\n",
        "    disease_uniprot_human = (omim_uniprot / uniprot_human_ref) * 100\n",
        "    non_disease_uniprot_human = 100 - disease_uniprot_human\n",
        "    print(\"Disease in UniProt Human proteins: \" + str(round(disease_uniprot_human, 2)))\n",
        "    omim_uniprot = table.at['TRP human UniProt', 'OMIM UniProt']\n",
        "    trp_human_ref = table.at['UniProt Human reference', 'TRP human UniProt']\n",
        "    disease_trp_human = (omim_uniprot / trp_human_ref) * 100\n",
        "    non_disease_trp_human = 100 - disease_trp_human\n",
        "    print(\"Disease in TRP Human proteins: \" + str(round(disease_trp_human, 2)))\n",
        "\n",
        "    omim_trp = table.at['TRP human UniProt', 'OMIM UniProt']\n",
        "    no_omim_trp = table.at['TRP human UniProt', 'TRP human UniProt'] - table.at['TRP human UniProt', 'OMIM UniProt']\n",
        "    no_omim_uniprot = table.at['UniProt Human reference', 'UniProt Human reference'] - table.at['UniProt Human reference', 'OMIM UniProt']\n",
        "    oddsratio, pvalue = stats.fisher_exact([[omim_trp, omim_uniprot], [no_omim_trp, no_omim_uniprot]])\n",
        "    print(\"Fisher exact test p-value \" + str(pvalue))\n",
        "\n",
        "    # Mosaic plot\n",
        "    conf_arr = np.array([[disease_trp_human, disease_uniprot_human],\n",
        "                         [non_disease_trp_human, non_disease_uniprot_human]])\n",
        "\n",
        "    df_cm = pd.DataFrame(conf_arr,\n",
        "                         index=['DISEASE', 'NON DISEASE'],\n",
        "                         columns=['TRP', 'UNIPROT'])\n",
        "\n",
        "    fig = plt.figure()\n",
        "\n",
        "    plt.clf()\n",
        "\n",
        "    ax = fig.add_subplot(111)\n",
        "\n",
        "    ax.set_aspect(1)\n",
        "    res = sn.heatmap(df_cm, annot=True, vmin=0.0, vmax=100.0, fmt='.2f')\n",
        "    plt.yticks([0.5, 1.5], ['DISEASE', 'NON DISEASE'], va='center')\n",
        "\n",
        "    plt.title('''Disease in proteins \\n Repeat vs non repeat''')\n",
        "\n",
        "    plt.show()\n"
      ],
      "metadata": {
        "id": "ZEvH5CX-CN6H"
      },
      "execution_count": null,
      "outputs": []
    },
    {
      "cell_type": "code",
      "source": [
        "disease_in_proteins()"
      ],
      "metadata": {
        "colab": {
          "base_uri": "https://localhost:8080/",
          "height": 348
        },
        "id": "W0BT0jNLCaPS",
        "outputId": "e06193f6-3c41-4f90-e322-d05d1bfdea13"
      },
      "execution_count": null,
      "outputs": [
        {
          "output_type": "stream",
          "name": "stdout",
          "text": [
            "Disease in UniProt Human proteins: 5.73\n",
            "Disease in TRP Human proteins: 37.5\n",
            "Fisher exact test p-value 5.566311790966537e-102\n"
          ]
        },
        {
          "output_type": "display_data",
          "data": {
            "image/png": "[encoded data removed]",
            "text/plain": [
              "<Figure size 432x288 with 2 Axes>"
            ]
          },
          "metadata": {
            "needs_background": "light"
          }
        }
      ]
    },
    {
      "cell_type": "markdown",
      "metadata": {
        "id": "aJvuIfFZvisW"
      },
      "source": [
        "**Disease distribution by class (TRP)**"
      ]
    },
    {
      "cell_type": "code",
      "metadata": {
        "id": "PTVkwXLRu_Qu"
      },
      "source": [
        "def disease_by_class():\n",
        "    # Create dataset\n",
        "    table = pd.read_csv('drive/MyDrive/Colab Notebooks/output/contingency_table.tsv', sep='\\t', index_col=0)\n",
        "    ii = table.at['OMIM UniProt', 'TRP II']\n",
        "    iii = table.at['OMIM UniProt', 'TRP III']\n",
        "    iv = table.at['OMIM UniProt', 'TRP IV']\n",
        "    v = table.at['OMIM UniProt', 'TRP V']\n",
        "    height = [int(ii), int(iii), int(iv), int(v)]\n",
        "    bars = ('II', 'III', 'IV', 'V')\n",
        "    x_pos = np.arange(len(bars))\n",
        "\n",
        "    # Create bars\n",
        "    plt.bar(x_pos, height, color=['#6DA6C5'])\n",
        "\n",
        "    # Create names on the x-axis\n",
        "    plt.xticks(x_pos, bars)\n",
        "\n",
        "    plt.title('Disease distribution by class (TRP UniProt)')\n",
        "\n",
        "    # Show graphic\n",
        "    plt.savefig('drive/MyDrive/Colab Notebooks/output/disease_by_class.png')"
      ],
      "execution_count": null,
      "outputs": []
    },
    {
      "cell_type": "code",
      "metadata": {
        "colab": {
          "base_uri": "https://localhost:8080/",
          "height": 316
        },
        "id": "0t5ZVJ9AvQe-",
        "outputId": "efd3a80b-0016-47d1-a084-1254918eacf4"
      },
      "source": [
        "disease_by_class()"
      ],
      "execution_count": null,
      "outputs": [
        {
          "output_type": "stream",
          "name": "stdout",
          "text": [
            "1\n",
            "340\n"
          ]
        },
        {
          "output_type": "display_data",
          "data": {
            "image/png": "[encoded data removed]",
            "text/plain": [
              "<Figure size 432x288 with 1 Axes>"
            ]
          },
          "metadata": {
            "needs_background": "light"
          }
        }
      ]
    },
    {
      "cell_type": "markdown",
      "metadata": {
        "id": "zhexZAOz_Mh5"
      },
      "source": [
        "# TRs interactions:  number of interactors in general\n"
      ]
    },
    {
      "cell_type": "markdown",
      "source": [
        "**Total and means interactors**"
      ],
      "metadata": {
        "id": "8VVO78p8-eCR"
      }
    },
    {
      "cell_type": "code",
      "source": [
        "import seaborn as sns\n",
        "from IPython.display import Image\n",
        "\n",
        "def interactors_to_file(file, type):\n",
        "    df_interactors = []\n",
        "\n",
        "    with open(file) as file:\n",
        "        for line in file:\n",
        "            if 'IntAct;' in line:\n",
        "                entry = line.split(';')[1].strip()\n",
        "                interactors = line.split(';')[2].split('.')[0].strip()\n",
        "\n",
        "                df_interactors.append(\n",
        "                    {\n",
        "                        'Entry': entry,\n",
        "                        'Dataset': type,\n",
        "                        'IntAct': int(interactors)\n",
        "                    }\n",
        "                )\n",
        "\n",
        "    df_interactors = pd.DataFrame(df_interactors)\n",
        "    return df_interactors\n",
        "\n",
        "def execute_t_test(distributions_df, folder, name, title):\n",
        "\n",
        "    # statistical test\n",
        "    repeat_distribution = distributions_df[(distributions_df.Dataset == 'repeat')]['IntAct'].to_numpy()\n",
        "    non_repeat_distribution = distributions_df[(distributions_df.Dataset == 'no_repeat')]['IntAct'].to_numpy()\n",
        "    sttest = stats.ttest_ind(repeat_distribution, non_repeat_distribution) # todo media e t test\n",
        "    # for one tailed, divide the p-value by 2\n",
        "    mean_rep = round(np.mean(repeat_distribution), 2)\n",
        "    mean_no_rep = round(np.mean(non_repeat_distribution), 2)\n",
        "    pvalue = sttest.pvalue / 2\n",
        "    \n",
        "\n",
        "    total_interactors_repeat = np.sum(repeat_distribution)\n",
        "    total_interactors_non_repeat = np.sum(non_repeat_distribution)\n",
        "\n",
        "    print(\"Total interactors repeat: \" + str(total_interactors_repeat))\n",
        "    print(\"Total interactors non repeat: \" + str(total_interactors_non_repeat))\n",
        "    print(\"Total human interactors: \" + str(total_interactors_repeat + total_interactors_non_repeat))\n",
        "\n",
        "    labels = 'Repeat', 'Non repeat'\n",
        "    sizes = [total_interactors_repeat, total_interactors_non_repeat]\n",
        "    explode = (0, 0.1)  # only \"explode\" the 2nd slice\n",
        "\n",
        "    fig1, ax1 = plt.subplots()\n",
        "    ax1.pie(sizes, explode=explode, labels=labels, autopct='%1.1f%%',\n",
        "            shadow=True, startangle=90)\n",
        "    ax1.axis('equal')  # Equal aspect ratio ensures that pie is drawn as a circle.\n",
        "    plt.savefig(folder + '/images/pie_repeat_vs_no_repeat.png')\n",
        "    plt.show()\n",
        "    plt.clf() \n",
        "\n",
        "    print(\"Repeat and UniProt kernel density estimation\")\n",
        "\n",
        "    sns.displot(distributions_df, x=\"IntAct\", hue=\"Dataset\", kde=True )\n",
        "    plt.ylim(0, 100)\n",
        "    plt.xlim(0, 200)\n",
        "    plt.ylabel(\"# Proteins\")\n",
        "    plt.xlabel(\"# Interactors\")\n",
        "    plt.show()\n",
        "    plt.clf() \n",
        "\n",
        "    sns.boxplot(x=distributions_df[\"Dataset\"], y=distributions_df[\"IntAct\"], showmeans=True, notch=True)\n",
        "    plt.ylim(0, 200)\n",
        "    plt.savefig(folder + '/images/mean_repeat_vs_no_repeat.png')\n",
        "\n",
        "    print(\"Mean repeat: \" + str(mean_rep))\n",
        "    print(\"Mean non repeat: \" + str(mean_no_rep))\n",
        "    print(\"Test difference between repeats and background through Student's t test, p-value: \" + str(pvalue))\n",
        "    \n",
        "    \n",
        "   \n",
        "    \n",
        "def interactors_mean():\n",
        "    # files from uniprot\n",
        "    df_uniprots_reference = 'drive/MyDrive/Colab Notebooks/datasets/interactors/uniprot_referenceproteome_intact.txt' # remove repeats\n",
        "    df_repeats = 'drive/MyDrive/Colab Notebooks/datasets/interactors/repeatsdb_interactors.txt'\n",
        "\n",
        "    df_repeats_interactors = interactors_to_file(df_repeats, 'repeat')\n",
        "    df_uniprots_reference_interactors = interactors_to_file(df_uniprots_reference, 'no_repeat')\n",
        "\n",
        "    distributions_df = pd.concat([df_repeats_interactors, df_uniprots_reference_interactors], ignore_index=True)\n",
        "\n",
        "    execute_t_test(distributions_df, 'drive/MyDrive/Colab Notebooks/datasets/interactors', 'interactors_distributions', 'interactors')"
      ],
      "metadata": {
        "id": "Q1L4_O-dS2cO"
      },
      "execution_count": null,
      "outputs": []
    },
    {
      "cell_type": "code",
      "source": [
        "interactors_mean()"
      ],
      "metadata": {
        "colab": {
          "base_uri": "https://localhost:8080/",
          "height": 1000
        },
        "id": "Psu9FUE7XUEJ",
        "outputId": "e0d69474-b6f7-4981-a372-910dfdb02148"
      },
      "execution_count": null,
      "outputs": [
        {
          "output_type": "stream",
          "name": "stdout",
          "text": [
            "Total interactors repeat: 19431\n",
            "Total interactors non repeat: 582907\n",
            "Total human interactors: 602338\n"
          ]
        },
        {
          "output_type": "display_data",
          "data": {
            "image/png": "[encoded data removed]",
            "text/plain": [
              "<Figure size 432x288 with 1 Axes>"
            ]
          },
          "metadata": {}
        },
        {
          "output_type": "stream",
          "name": "stdout",
          "text": [
            "Repeat and UniProt kernel density estimation\n"
          ]
        },
        {
          "output_type": "display_data",
          "data": {
            "text/plain": [
              "<Figure size 432x288 with 0 Axes>"
            ]
          },
          "metadata": {}
        },
        {
          "output_type": "display_data",
          "data": {
            "image/png": "[encoded data removed]",
            "text/plain": [
              "<Figure size 445.75x360 with 1 Axes>"
            ]
          },
          "metadata": {
            "needs_background": "light"
          }
        },
        {
          "output_type": "stream",
          "name": "stdout",
          "text": [
            "Mean repeat: 70.15\n",
            "Mean non repeat: 31.19\n",
            "Test difference between repeats and background through Student's t test, p-value: 1.1286130095072501e-28\n"
          ]
        },
        {
          "output_type": "display_data",
          "data": {
            "image/png": "[encoded data removed]",
            "text/plain": [
              "<Figure size 432x288 with 1 Axes>"
            ]
          },
          "metadata": {
            "needs_background": "light"
          }
        }
      ]
    },
    {
      "cell_type": "markdown",
      "source": [
        "After comparing the distributions statistically, we can observe that repeat proteins have a higher mean value of interactors, and the distributions are statistically different (as the t test shows).\n"
      ],
      "metadata": {
        "id": "_YEXTR_vdwT2"
      }
    },
    {
      "cell_type": "code",
      "source": [
        "def reducefile():\n",
        "        path = 'drive/MyDrive/Colab Notebooks/datasets/interactors/'\n",
        "        content = pd.read_csv(path + 'intact.txt', sep='\\t')\n",
        "        columns = ['#ID(s) interactor A', 'ID(s) interactor B',\n",
        "                   'Feature(s) interactor A', 'Feature(s) interactor B']\n",
        "        print(len(content), 'total interactions')\n",
        "        df = [d for d in content[columns].to_numpy() if 'binding' in d[2] or 'binding' in d[3]]\n",
        "        print(len(df), 'interactions annotated with region')\n",
        "        # fl = open(path + 'intact_reduced.txt', 'w+')\n",
        "        # fl.write('\\t'.join(columns) + '\\n')\n",
        "        # for row in df:\n",
        "        #     fl.write('\\t'.join(row))\n",
        "        #     fl.write('\\n')\n",
        "\n",
        "        labels = 'Interactions', 'Interaction region annotated'\n",
        "        sizes = [len(content) -  len(df) , len(df)]\n",
        "        explode = (0, 0.1)  # only \"explode\" the 2nd slice\n",
        "\n",
        "        fig1, ax1 = plt.subplots()\n",
        "        ax1.pie(sizes, explode=explode, labels=labels, autopct='%1.1f%%',\n",
        "                shadow=True, startangle=90)\n",
        "        ax1.axis('equal')  # Equal aspect ratio ensures that pie is drawn as a circle."
      ],
      "metadata": {
        "id": "zuGi_ILbUz10"
      },
      "execution_count": null,
      "outputs": []
    },
    {
      "cell_type": "code",
      "source": [
        "reducefile()"
      ],
      "metadata": {
        "colab": {
          "base_uri": "https://localhost:8080/",
          "height": 283
        },
        "id": "UClD5A7mVE-8",
        "outputId": "ad8c7357-807a-4109-ab80-ba169c680013"
      },
      "execution_count": null,
      "outputs": [
        {
          "output_type": "stream",
          "name": "stdout",
          "text": [
            "1155104 total interactions\n",
            "323030 interactions annotated with region\n"
          ]
        },
        {
          "output_type": "display_data",
          "data": {
            "image/png": "[encoded data removed]",
            "text/plain": [
              "<Figure size 432x288 with 1 Axes>"
            ]
          },
          "metadata": {}
        }
      ]
    },
    {
      "cell_type": "markdown",
      "metadata": {
        "id": "3BNjxNkR_mfz"
      },
      "source": [
        "1155104 total interactions\n",
        "\n",
        "323030\n",
        " interactions annotated with region\t\t\n",
        "\n",
        "More than 300,000 feature some annotation about the interacting region (on one interactor or the other)."
      ]
    },
    {
      "cell_type": "code",
      "source": [
        " import json\n",
        " def interacting_repeats_count():\n",
        "        path = 'drive/MyDrive/Colab Notebooks/datasets/'\n",
        "        def splitid(key):\n",
        "            return [d.split(':')[1].split('-')[0] for d in intact[key] if d != '-']\n",
        "\n",
        "        intact = pd.read_csv(path + 'interactors/intact_reduced.txt', sep='\\t')\n",
        "        repeatsdb = json.loads(open(path + 'uniprots.json').read())\n",
        "        intact_ids = set(splitid('#ID(s) interactor A')).union(\n",
        "            set(splitid('ID(s) interactor B'))\n",
        "        )\n",
        "        repeatsdb_ids = set([d['uniprot_id'] for d in repeatsdb])\n",
        "        dataset = repeatsdb_ids & intact_ids\n",
        "        print(len(dataset), 'entries included in RepeatsDB')"
      ],
      "metadata": {
        "id": "3-bqb7IIbPdu"
      },
      "execution_count": null,
      "outputs": []
    },
    {
      "cell_type": "code",
      "source": [
        "interacting_repeats_count()"
      ],
      "metadata": {
        "colab": {
          "base_uri": "https://localhost:8080/"
        },
        "id": "rKQdjrUibmbY",
        "outputId": "c41fcf1d-8ee8-4ad9-ac4f-74d950716634"
      },
      "execution_count": null,
      "outputs": [
        {
          "output_type": "stream",
          "name": "stdout",
          "text": [
            "575 entries included in RepeatsDB\n"
          ]
        }
      ]
    },
    {
      "cell_type": "markdown",
      "source": [
        "# TRs interactions: Repeats in hubs vs non hubs"
      ],
      "metadata": {
        "id": "w_x7G7x2R-EI"
      }
    },
    {
      "cell_type": "markdown",
      "source": [
        "Although hubs in protein–protein interaction networks have been defined using several criteria, the definition of hubs as proteins with five or more interactions has been shown to be robust (https://onlinelibrary.wiley.com/doi/full/10.1002/pro.425).\n",
        "Hence I consider proteins that have > 5 interactors as hubs.\n",
        "I want to calculate how many hubs proteins are also repeats."
      ],
      "metadata": {
        "id": "XcBkxTPbnZK9"
      }
    },
    {
      "cell_type": "code",
      "source": [
        "def repeats_in_hubs():\n",
        "    # files from uniprot\n",
        "    df_uniprots_reference = 'drive/MyDrive/Colab Notebooks/datasets/interactors/uniprot_referenceproteome_intact.txt' # remove repeats\n",
        "    df_repeats = 'drive/MyDrive/Colab Notebooks/datasets/interactors/repeatsdb_interactors.txt'\n",
        "    df_repeats_interactors = interactors_to_file(df_repeats, 'repeat')\n",
        "    interactors_5plus_rep = df_repeats_interactors[df_repeats_interactors['IntAct'].astype(int) > 5]\n",
        "    interactors_5minus_rep = df_repeats_interactors[df_repeats_interactors['IntAct'].astype(int) < 5]\n",
        "\n",
        "    df_uniprots_reference_interactors = interactors_to_file(df_uniprots_reference, 'no_repeat')\n",
        "    interactors_5plus_no_rep = df_uniprots_reference_interactors[df_uniprots_reference_interactors['IntAct'].astype(int) > 5]\n",
        "    interactors_5minus_no_rep = df_uniprots_reference_interactors[df_uniprots_reference_interactors['IntAct'].astype(int) < 5]\n",
        "    hub_5plus = pd.concat([interactors_5plus_rep, interactors_5plus_no_rep], ignore_index=True)\n",
        "    hub_5minus = pd.concat([interactors_5minus_rep, interactors_5minus_no_rep], ignore_index=True)\n",
        "    total_hub_5plus = len(hub_5plus)\n",
        "    total_hub_5minus = len(hub_5minus)\n",
        "    perc_rep_5plus = (len(hub_5plus.loc[(hub_5plus['Dataset'] == 'repeat')]) / total_hub_5plus) * 100\n",
        "    perc_rep_5minus = (len(hub_5minus.loc[(hub_5minus['Dataset'] == 'repeat')]) / total_hub_5minus) * 100\n",
        "\n",
        "    df = pd.DataFrame({'domains': ['Repeating','Repeating'], 'legend': ['hub','no hub'], '% of proteins': [perc_rep_5plus, perc_rep_5minus]})\n",
        "\n",
        "    sns.catplot(x='domains', y='% of proteins', hue='legend', kind='bar', data=df)\n",
        "    plt.ylim(0, 5)\n",
        "    plt.show()"
      ],
      "metadata": {
        "id": "VXfYKnwknzv3"
      },
      "execution_count": null,
      "outputs": []
    },
    {
      "cell_type": "code",
      "source": [
        "repeats_in_hubs()"
      ],
      "metadata": {
        "colab": {
          "base_uri": "https://localhost:8080/",
          "height": 373
        },
        "id": "feqCnSWcoW7q",
        "outputId": "59704c76-3bb2-4078-be89-4eccb0230e3f"
      },
      "execution_count": null,
      "outputs": [
        {
          "output_type": "display_data",
          "data": {
            "image/png": "[encoded data removed]",
            "text/plain": [
              "<Figure size 430.5x360 with 1 Axes>"
            ]
          },
          "metadata": {
            "needs_background": "light"
          }
        }
      ]
    },
    {
      "cell_type": "markdown",
      "source": [
        "We investigated the prevalence of repeating domains in hubs and non-hubs. A total of 1.97% hubs contained at least one repeating domain when compared with 0.27% in non-hubs. Thus, more hubs had repeating domains than non-hubs."
      ],
      "metadata": {
        "id": "vwMI0xUPz-BK"
      }
    },
    {
      "cell_type": "markdown",
      "source": [
        "# TRs interactions: where with respect to the repeat region"
      ],
      "metadata": {
        "id": "68C7CPm-Sl86"
      }
    },
    {
      "cell_type": "markdown",
      "source": [
        "Creating a file with both interactors and regions info."
      ],
      "metadata": {
        "id": "lIToFE-Wu7m8"
      }
    },
    {
      "cell_type": "code",
      "source": [
        "import json\n",
        "def parselocation(loc):\n",
        "        resrange = []\n",
        "        try:\n",
        "            key, val = loc.split(':')\n",
        "            # TODO: deal with n-nand c-c notations\n",
        "            if '?' not in val and 'n' not in val and 'c' not in val:\n",
        "                for value in val.split(','):\n",
        "                    if '..' in value:\n",
        "                        resrange += range(int(value.split('-')[0].split('..')[1]) - 1, int(value.split('-')[1].split('..')[0]))\n",
        "                    else:\n",
        "                        resrange += range(int(value.split('-')[0])-1, int(value.split('-')[1].split('(')[0]))\n",
        "        except:\n",
        "            return resrange\n",
        "        return resrange\n",
        "\n",
        "def repeats_interactors():\n",
        "    path = 'drive/MyDrive/Colab Notebooks/datasets/interactors'\n",
        "\n",
        "    def splitid(key):\n",
        "        return [d.split(':')[1].split('-')[0] for d in intact[key] if d != '-']\n",
        "\n",
        "    intact = pd.read_csv(path + '/intact_reduced.txt', sep='\\t')\n",
        "    repeatsdb = json.loads(open(path + '/../uniprots.json').read())\n",
        "    intact_ids = set(splitid('#ID(s) interactor A')).union(\n",
        "        set(splitid('ID(s) interactor B'))\n",
        "    )\n",
        "    repeatsdb_ids = set([d['uniprot_id'] for d in repeatsdb])\n",
        "    dataset = repeatsdb_ids & intact_ids\n",
        "\n",
        "\n",
        "    finaldic = {u: [] for u in dataset}\n",
        "    for index, row in intact.iterrows():\n",
        "        a = row['#ID(s) interactor A'].split(':')[1].split('-')[0]\n",
        "        b = row['ID(s) interactor B'].split(':')[1].split('-')[0] if row['ID(s) interactor B'] != '-' else None\n",
        "        if a in dataset:\n",
        "            if 'binding' in row['Feature(s) interactor A']:\n",
        "                finaldic[a].append({\n",
        "                    'interactor': b,\n",
        "                    'location': row['Feature(s) interactor A']\n",
        "                })\n",
        "        if b and b in dataset:\n",
        "            if 'binding' in row['Feature(s) interactor B']:\n",
        "                finaldic[b].append({\n",
        "                    'interactor': a,\n",
        "                    'location': row['Feature(s) interactor B']\n",
        "                })\n",
        "    repdic = {u['uniprot_id']: u for u in repeatsdb}\n",
        "    reducedfinaldic = {\n",
        "        u: {\n",
        "            'interactions': finaldic[u],\n",
        "            'repeats': repdic[u]\n",
        "        } for u in finaldic if finaldic[u]}\n",
        "    open(path + '/intact_dataset.json', 'w+').write(json.dumps(reducedfinaldic))\n",
        "\n",
        "    dataset = json.loads(open(path + '/intact_dataset.json').read())\n",
        "    interestingtypes = set(['sufficient binding region', 'necessary binding region',\n",
        "                            'direct binding region', 'binding-associated region'])\n",
        "    filtered_dataset = [d for d in dataset if interestingtypes & set(\n",
        "        [loc.split(':')[0] for inte in dataset[d]['interactions'] for loc in inte['location'].split('|')]\n",
        "    )]\n",
        "    for protein in filtered_dataset:\n",
        "        prange = range(len(dataset[protein]['repeats']['uniprot_sequence']))\n",
        "        # print(protein, len(prange))\n",
        "        repeat_array = [1 if index in set([ii\n",
        "                                           for reg in dataset[protein]['repeats']['repeatsdb_consensus_one'] for ii\n",
        "                                           in range(\n",
        "                reg['start'] - 1, reg['end'])]) else 0\n",
        "                        for index in prange]\n",
        "        interaction_array = [1 if index in set(\n",
        "            [ii for inte in dataset[protein]['interactions'] for loc in inte['location'].split('|')\n",
        "             for ii in parselocation(loc)]\n",
        "        ) else 0 for index in prange]\n",
        "        dataset[protein]['repeat_array'] = repeat_array\n",
        "        dataset[protein]['interaction_array'] = interaction_array\n",
        "        open(path + '/intact_dataset_arrays.json', 'w+').write(json.dumps(dataset))"
      ],
      "metadata": {
        "id": "baduReDwSviv"
      },
      "execution_count": 15,
      "outputs": []
    },
    {
      "cell_type": "code",
      "source": [
        "repeats_interactors()"
      ],
      "metadata": {
        "id": "1_URwJrCTH1C"
      },
      "execution_count": 16,
      "outputs": []
    },
    {
      "cell_type": "markdown",
      "source": [
        "Creating a table with interactions and repeat info by char."
      ],
      "metadata": {
        "id": "SSedgpjYvBr1"
      }
    },
    {
      "cell_type": "code",
      "source": [
        "def repeats_interactors_table():\n",
        "    repeats_interactors_table = []\n",
        "    df_repeats_interactors = 'drive/MyDrive/Colab Notebooks/datasets/interactors/intact_dataset_arrays.json'\n",
        "    df_repeats_interactors = json.loads(open(df_repeats_interactors).read())\n",
        "    for unp in df_repeats_interactors:\n",
        "        sequence = df_repeats_interactors[unp]['repeats']['uniprot_sequence']\n",
        "        for idx, char in enumerate(sequence):\n",
        "            int_reg = 0\n",
        "            rep_reg = 0\n",
        "            for ch in df_repeats_interactors[unp]['repeats']['pdb_chains']:\n",
        "                if idx in range(int(ch['start']), int(ch['end'])):\n",
        "                    rep_reg = 1\n",
        "            for interactor in df_repeats_interactors[unp]['interactions']:\n",
        "                regions = interactor['location'].split('|')\n",
        "                for reg in regions:\n",
        "                    if 'region:' in reg:\n",
        "                        if ',' in reg:\n",
        "                            multi_reg = reg.split('region:')[1].split(',')\n",
        "                            for r in multi_reg:\n",
        "                                st = r.split('-')[0]\n",
        "                                end = r.split('-')[1]\n",
        "                                if '..' in st:\n",
        "                                    st = st.split('..')[0]\n",
        "                                    end = end.split('..')[0]\n",
        "                                if '(' in r:\n",
        "                                    end = end.split('(')[0]\n",
        "                                    if st != '?' and end != '?':\n",
        "                                        if idx in range(int(st), int(end)):\n",
        "                                            int_reg = 1\n",
        "                                if '|' in r:\n",
        "                                    end = end.split('|')[0]\n",
        "                                    if st != '?' and end != '?':\n",
        "                                        if idx in range(int(st), int(end)):\n",
        "                                            int_reg = 1\n",
        "                        else:\n",
        "                            st = reg.split('region:')[1].split('-')[0]\n",
        "                            end = reg.split('region:')[1].split('-')[1]\n",
        "                            if '..' in st:\n",
        "                                st = st.split('..')[0]\n",
        "                                end = end.split('..')[0]\n",
        "                            if '(' in reg:\n",
        "                                end = end.split('(')[0]\n",
        "                                if st != '?' and end != '?':\n",
        "                                    if idx in range(int(st), int(end)):\n",
        "                                        int_reg = 1\n",
        "                            if '|' in reg:\n",
        "                                end = end.split('|')[0]\n",
        "                                if st != '?' and end != '?':\n",
        "                                    if idx in range(int(st), int(end)):\n",
        "                                        int_reg = 1\n",
        "\n",
        "            repeats_interactors_table.append(\n",
        "                {\n",
        "                    'Entry': unp,\n",
        "                    'Char': char,\n",
        "                    'Interacting region': int_reg,\n",
        "                    'Repeat region': rep_reg\n",
        "                }\n",
        "            )\n",
        "    repeats_interactors_table = pd.DataFrame(repeats_interactors_table)\n",
        "\n",
        "    repeats_interactors_table.to_csv('drive/MyDrive/Colab Notebooks/datasets/interactors/repeats_interactors_table.tsv', sep='\\t', index=False)\n"
      ],
      "metadata": {
        "id": "gfoTMa9auRXb"
      },
      "execution_count": 21,
      "outputs": []
    },
    {
      "cell_type": "code",
      "source": [
        "repeats_interactors_table()"
      ],
      "metadata": {
        "id": "Ppjf1L7yuVx0"
      },
      "execution_count": 22,
      "outputs": []
    },
    {
      "cell_type": "code",
      "source": [
        "table = pd.read_csv('drive/MyDrive/Colab Notebooks/datasets/interactors/repeats_interactors_table.tsv', sep='\\t', index_col=0) #to read the file\n",
        "table"
      ],
      "metadata": {
        "colab": {
          "base_uri": "https://localhost:8080/",
          "height": 455
        },
        "id": "rIYloV7Evltg",
        "outputId": "cc64977e-945c-41cf-d2a2-145c2d42a9df"
      },
      "execution_count": 23,
      "outputs": [
        {
          "output_type": "execute_result",
          "data": {
            "text/html": [
              "<div>\n",
              "<style scoped>\n",
              "    .dataframe tbody tr th:only-of-type {\n",
              "        vertical-align: middle;\n",
              "    }\n",
              "\n",
              "    .dataframe tbody tr th {\n",
              "        vertical-align: top;\n",
              "    }\n",
              "\n",
              "    .dataframe thead th {\n",
              "        text-align: right;\n",
              "    }\n",
              "</style>\n",
              "<table border=\"1\" class=\"dataframe\">\n",
              "  <thead>\n",
              "    <tr style=\"text-align: right;\">\n",
              "      <th></th>\n",
              "      <th>Char</th>\n",
              "      <th>Interacting region</th>\n",
              "      <th>Repeat region</th>\n",
              "    </tr>\n",
              "    <tr>\n",
              "      <th>Entry</th>\n",
              "      <th></th>\n",
              "      <th></th>\n",
              "      <th></th>\n",
              "    </tr>\n",
              "  </thead>\n",
              "  <tbody>\n",
              "    <tr>\n",
              "      <th>O60486</th>\n",
              "      <td>M</td>\n",
              "      <td>0</td>\n",
              "      <td>0</td>\n",
              "    </tr>\n",
              "    <tr>\n",
              "      <th>O60486</th>\n",
              "      <td>E</td>\n",
              "      <td>0</td>\n",
              "      <td>0</td>\n",
              "    </tr>\n",
              "    <tr>\n",
              "      <th>O60486</th>\n",
              "      <td>V</td>\n",
              "      <td>0</td>\n",
              "      <td>0</td>\n",
              "    </tr>\n",
              "    <tr>\n",
              "      <th>O60486</th>\n",
              "      <td>S</td>\n",
              "      <td>0</td>\n",
              "      <td>0</td>\n",
              "    </tr>\n",
              "    <tr>\n",
              "      <th>O60486</th>\n",
              "      <td>R</td>\n",
              "      <td>0</td>\n",
              "      <td>0</td>\n",
              "    </tr>\n",
              "    <tr>\n",
              "      <th>...</th>\n",
              "      <td>...</td>\n",
              "      <td>...</td>\n",
              "      <td>...</td>\n",
              "    </tr>\n",
              "    <tr>\n",
              "      <th>Q96QK1</th>\n",
              "      <td>E</td>\n",
              "      <td>0</td>\n",
              "      <td>0</td>\n",
              "    </tr>\n",
              "    <tr>\n",
              "      <th>Q96QK1</th>\n",
              "      <td>G</td>\n",
              "      <td>0</td>\n",
              "      <td>0</td>\n",
              "    </tr>\n",
              "    <tr>\n",
              "      <th>Q96QK1</th>\n",
              "      <td>L</td>\n",
              "      <td>0</td>\n",
              "      <td>0</td>\n",
              "    </tr>\n",
              "    <tr>\n",
              "      <th>Q96QK1</th>\n",
              "      <td>I</td>\n",
              "      <td>0</td>\n",
              "      <td>0</td>\n",
              "    </tr>\n",
              "    <tr>\n",
              "      <th>Q96QK1</th>\n",
              "      <td>L</td>\n",
              "      <td>0</td>\n",
              "      <td>0</td>\n",
              "    </tr>\n",
              "  </tbody>\n",
              "</table>\n",
              "<p>420097 rows × 3 columns</p>\n",
              "</div>"
            ],
            "text/plain": [
              "       Char  Interacting region  Repeat region\n",
              "Entry                                         \n",
              "O60486    M                   0              0\n",
              "O60486    E                   0              0\n",
              "O60486    V                   0              0\n",
              "O60486    S                   0              0\n",
              "O60486    R                   0              0\n",
              "...     ...                 ...            ...\n",
              "Q96QK1    E                   0              0\n",
              "Q96QK1    G                   0              0\n",
              "Q96QK1    L                   0              0\n",
              "Q96QK1    I                   0              0\n",
              "Q96QK1    L                   0              0\n",
              "\n",
              "[420097 rows x 3 columns]"
            ]
          },
          "metadata": {},
          "execution_count": 23
        }
      ]
    },
    {
      "cell_type": "code",
      "source": [
        "def coverage():\n",
        "    table = pd.read_csv('drive/MyDrive/Colab Notebooks/datasets/interactors/repeats_interactors_table.tsv', sep='\\t')\n",
        "    int_reg_rep_reg = len(table.loc[(table['Interacting region'] == 1) & (table['Repeat region'] == 1)])\n",
        "    int_reg = len(table.loc[(table['Interacting region'] == 1)])\n",
        "    rep_reg = len(table.loc[(table['Repeat region'] == 1)])\n",
        "    int_coverage = str(round((int_reg_rep_reg / int_reg) * 100, 2))\n",
        "    reg_coverage = str(round((int_reg_rep_reg / rep_reg) * 100, 2))\n",
        "    print('coverage interacting residues: ' + int_coverage)\n",
        "    print('coverage repeat residues: ' + reg_coverage)"
      ],
      "metadata": {
        "id": "zIihTRNOyrc2"
      },
      "execution_count": 29,
      "outputs": []
    },
    {
      "cell_type": "code",
      "source": [
        "coverage()"
      ],
      "metadata": {
        "colab": {
          "base_uri": "https://localhost:8080/"
        },
        "id": "IcCCuYFLw_qk",
        "outputId": "ed8cd3c5-cff1-49b8-acc7-a47bdb1f4775"
      },
      "execution_count": 30,
      "outputs": [
        {
          "output_type": "stream",
          "name": "stdout",
          "text": [
            "coverage interacting residues: 64.8\n",
            "coverage repeat residues: 20.57\n"
          ]
        }
      ]
    },
    {
      "cell_type": "markdown",
      "source": [
        "65% of interacting residues are also repeat residues.\n",
        "\n",
        "21% of repeat residues are involved in interactions."
      ],
      "metadata": {
        "id": "lLh16bWXzWX3"
      }
    }
  ]
}